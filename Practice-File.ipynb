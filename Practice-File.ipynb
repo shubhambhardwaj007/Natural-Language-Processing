{
 "cells": [
  {
   "cell_type": "code",
   "execution_count": 1,
   "id": "85a373ca",
   "metadata": {},
   "outputs": [],
   "source": [
    "s = \"Hello LW\""
   ]
  },
  {
   "cell_type": "code",
   "execution_count": 2,
   "id": "39dc000c",
   "metadata": {},
   "outputs": [
    {
     "data": {
      "text/plain": [
       "['Hello', 'LW']"
      ]
     },
     "execution_count": 2,
     "metadata": {},
     "output_type": "execute_result"
    }
   ],
   "source": [
    "s.split()"
   ]
  },
  {
   "cell_type": "code",
   "execution_count": 3,
   "id": "e73f2c3e",
   "metadata": {},
   "outputs": [],
   "source": [
    "import spacy"
   ]
  },
  {
   "cell_type": "code",
   "execution_count": 4,
   "id": "3813b460",
   "metadata": {},
   "outputs": [],
   "source": [
    "english = spacy.load(\"en_core_web_sm\")"
   ]
  },
  {
   "cell_type": "code",
   "execution_count": 5,
   "id": "33c3bcbf",
   "metadata": {},
   "outputs": [],
   "source": [
    "statement1 = \"LW invest more than $2 millon dollar in setting up IIEC DOT community\""
   ]
  },
  {
   "cell_type": "code",
   "execution_count": 6,
   "id": "d72b45b5",
   "metadata": {},
   "outputs": [
    {
     "data": {
      "text/plain": [
       "['LW',\n",
       " 'invest',\n",
       " 'more',\n",
       " 'than',\n",
       " '$2',\n",
       " 'millon',\n",
       " 'dollar',\n",
       " 'in',\n",
       " 'setting',\n",
       " 'up',\n",
       " 'IIEC',\n",
       " 'DOT',\n",
       " 'community']"
      ]
     },
     "execution_count": 6,
     "metadata": {},
     "output_type": "execute_result"
    }
   ],
   "source": [
    "statement1.split()"
   ]
  },
  {
   "cell_type": "code",
   "execution_count": 7,
   "id": "a26800b3",
   "metadata": {},
   "outputs": [],
   "source": [
    "tokens = english(statement1)"
   ]
  },
  {
   "cell_type": "code",
   "execution_count": 8,
   "id": "b2688fca",
   "metadata": {},
   "outputs": [
    {
     "data": {
      "text/plain": [
       "LW invest more than $2 millon dollar in setting up IIEC DOT community"
      ]
     },
     "execution_count": 8,
     "metadata": {},
     "output_type": "execute_result"
    }
   ],
   "source": [
    "tokens"
   ]
  },
  {
   "cell_type": "code",
   "execution_count": 9,
   "id": "63dfd7eb",
   "metadata": {},
   "outputs": [
    {
     "data": {
      "text/plain": [
       "spacy.tokens.doc.Doc"
      ]
     },
     "execution_count": 9,
     "metadata": {},
     "output_type": "execute_result"
    }
   ],
   "source": [
    "type(tokens)"
   ]
  },
  {
   "cell_type": "code",
   "execution_count": 10,
   "id": "ec090109",
   "metadata": {},
   "outputs": [
    {
     "name": "stdout",
     "output_type": "stream",
     "text": [
      "LW 96 PROPN\n",
      "invest 100 VERB\n",
      "more 84 ADJ\n",
      "than 98 SCONJ\n",
      "$ 99 SYM\n",
      "2 93 NUM\n",
      "millon 92 NOUN\n",
      "dollar 92 NOUN\n",
      "in 85 ADP\n",
      "setting 100 VERB\n",
      "up 85 ADP\n",
      "IIEC 92 NOUN\n",
      "DOT 96 PROPN\n",
      "community 92 NOUN\n"
     ]
    }
   ],
   "source": [
    "for i in tokens:\n",
    "    print(i.text,i.pos,i.pos_)"
   ]
  },
  {
   "cell_type": "code",
   "execution_count": 11,
   "id": "8a28fea7",
   "metadata": {},
   "outputs": [
    {
     "data": {
      "text/plain": [
       "'PROPN'"
      ]
     },
     "execution_count": 11,
     "metadata": {},
     "output_type": "execute_result"
    }
   ],
   "source": [
    "tokens[0].pos_"
   ]
  },
  {
   "cell_type": "code",
   "execution_count": 12,
   "id": "f30898d1",
   "metadata": {},
   "outputs": [
    {
     "data": {
      "text/plain": [
       "'nsubj'"
      ]
     },
     "execution_count": 12,
     "metadata": {},
     "output_type": "execute_result"
    }
   ],
   "source": [
    "tokens[0].dep_"
   ]
  },
  {
   "cell_type": "code",
   "execution_count": 13,
   "id": "c0b9d65c",
   "metadata": {},
   "outputs": [],
   "source": [
    "statement2 = \"Apple is looking at buying U.K. startup for $2 billion\""
   ]
  },
  {
   "cell_type": "code",
   "execution_count": 14,
   "id": "97a22fbd",
   "metadata": {},
   "outputs": [],
   "source": [
    "tokens2 = english(statement2)"
   ]
  },
  {
   "cell_type": "code",
   "execution_count": 18,
   "id": "9ec4bfdd",
   "metadata": {},
   "outputs": [
    {
     "name": "stdout",
     "output_type": "stream",
     "text": [
      "Apple 96 PROPN 6418411030699964375 Apple nsubj\n",
      "is 87 AUX 10382539506755952630 be aux\n",
      "looking 100 VERB 16096726548953279178 look ROOT\n",
      "at 85 ADP 11667289587015813222 at prep\n",
      "buying 100 VERB 9457496526477982497 buy pcomp\n",
      "U.K. 96 PROPN 14409890634315022856 U.K. dobj\n",
      "startup 92 NOUN 7622488711881293715 startup advcl\n",
      "for 85 ADP 16037325823156266367 for prep\n",
      "$ 99 SYM 11283501755624150392 $ quantmod\n",
      "2 93 NUM 15180167692696242062 2 compound\n",
      "billion 93 NUM 1231493654637052630 billion pobj\n"
     ]
    }
   ],
   "source": [
    "for i in tokens2:\n",
    "    print(i.text,i.pos,i.pos_,i.lemma,i.lemma_,i.dep_)"
   ]
  },
  {
   "cell_type": "code",
   "execution_count": 19,
   "id": "8da148f3",
   "metadata": {},
   "outputs": [
    {
     "data": {
      "text/plain": [
       "[('tok2vec', <spacy.pipeline.tok2vec.Tok2Vec at 0x7fb751029110>),\n",
       " ('tagger', <spacy.pipeline.tagger.Tagger at 0x7fb75103a770>),\n",
       " ('parser', <spacy.pipeline.dep_parser.DependencyParser at 0x7fb7513916e0>),\n",
       " ('ner', <spacy.pipeline.ner.EntityRecognizer at 0x7fb751391830>),\n",
       " ('attribute_ruler',\n",
       "  <spacy.pipeline.attributeruler.AttributeRuler at 0x7fb75106c5f0>),\n",
       " ('lemmatizer',\n",
       "  <spacy.lang.en.lemmatizer.EnglishLemmatizer at 0x7fb751091a00>)]"
      ]
     },
     "execution_count": 19,
     "metadata": {},
     "output_type": "execute_result"
    }
   ],
   "source": [
    "english.pipeline"
   ]
  },
  {
   "cell_type": "code",
   "execution_count": 20,
   "id": "0a7731dc",
   "metadata": {},
   "outputs": [],
   "source": [
    "statement3 = \"Google isn't looking for startups\""
   ]
  },
  {
   "cell_type": "code",
   "execution_count": 21,
   "id": "e3fcc40a",
   "metadata": {},
   "outputs": [],
   "source": [
    "tokens3 = english(statement3)"
   ]
  },
  {
   "cell_type": "code",
   "execution_count": 22,
   "id": "9958fa47",
   "metadata": {},
   "outputs": [
    {
     "data": {
      "text/plain": [
       "Google isn't looking for startups"
      ]
     },
     "execution_count": 22,
     "metadata": {},
     "output_type": "execute_result"
    }
   ],
   "source": [
    "tokens3"
   ]
  },
  {
   "cell_type": "code",
   "execution_count": 26,
   "id": "16ae197c",
   "metadata": {},
   "outputs": [
    {
     "name": "stdout",
     "output_type": "stream",
     "text": [
      "Google Google nsubj PROPN\n",
      "is be aux AUX\n",
      "n't n't neg PART\n",
      "looking look ROOT VERB\n",
      "for for prep ADP\n",
      "startups startup pobj NOUN\n"
     ]
    }
   ],
   "source": [
    "for i in tokens3:\n",
    "    print(i.text,i.lemma_,i.dep_,i.pos_)"
   ]
  },
  {
   "cell_type": "code",
   "execution_count": 27,
   "id": "47dc60bf",
   "metadata": {},
   "outputs": [
    {
     "data": {
      "text/plain": [
       "'nominal subject'"
      ]
     },
     "execution_count": 27,
     "metadata": {},
     "output_type": "execute_result"
    }
   ],
   "source": [
    "spacy.explain('nsubj')"
   ]
  },
  {
   "cell_type": "code",
   "execution_count": null,
   "id": "eb8cdbce",
   "metadata": {},
   "outputs": [],
   "source": []
  }
 ],
 "metadata": {
  "kernelspec": {
   "display_name": "Python 3",
   "language": "python",
   "name": "python3"
  },
  "language_info": {
   "codemirror_mode": {
    "name": "ipython",
    "version": 3
   },
   "file_extension": ".py",
   "mimetype": "text/x-python",
   "name": "python",
   "nbconvert_exporter": "python",
   "pygments_lexer": "ipython3",
   "version": "3.7.10"
  }
 },
 "nbformat": 4,
 "nbformat_minor": 5
}
